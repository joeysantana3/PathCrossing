{
 "cells": [
  {
   "cell_type": "markdown",
   "id": "60769a18-8d2c-4711-8bad-ec633622d8c6",
   "metadata": {},
   "source": [
    "# Path Crossing\n",
    "I started \"WarDriving\" on my commute to work. I just use the Android app from [WiGLE](https://wigle.net/). The thought crossed my mind that I likely \"cross paths\" with the same people at different locations on different days, so I wanted to analyze the data to find out.\n",
    "\n",
    "I started off exporting the local database from the WiGLE app and exported the network and location tables as CSVs."
   ]
  },
  {
   "cell_type": "code",
   "execution_count": null,
   "id": "63608a63-27a8-408b-9377-e6c08e82f8f1",
   "metadata": {},
   "outputs": [],
   "source": [
    "import math\n",
    "import folium #A mapping library\n",
    "import pandas as pd\n",
    "from tqdm.notebook import tqdm\n",
    "from folium.plugins import MarkerCluster"
   ]
  },
  {
   "cell_type": "code",
   "execution_count": null,
   "id": "25f26f4d-0068-4ee6-9dd7-552ee152eb29",
   "metadata": {},
   "outputs": [],
   "source": [
    "network_file = \"network_202312062229.csv\"\n",
    "location_file = \"location_202312062239.csv\""
   ]
  },
  {
   "cell_type": "code",
   "execution_count": null,
   "id": "f6dbae76-23ad-4dc4-af22-22240c585d36",
   "metadata": {},
   "outputs": [],
   "source": [
    "df_network = pd.read_csv(network_file)\n",
    "df_location = pd.read_csv(location_file)"
   ]
  },
  {
   "cell_type": "code",
   "execution_count": null,
   "id": "0af25364-80fe-454c-8cf2-bc1d884c4b9f",
   "metadata": {},
   "outputs": [],
   "source": [
    "#Define the columns we don't need\n",
    "network_columns_to_drop = [\"frequency\", \"capabilities\", \"type\", \"bestlevel\", \"bestlat\", \"bestlon\", \"rcois\", \"mfgrid\", \"service\"]\n",
    "location_columns_to_drop = [\"level\", \"altitude\", \"accuracy\", \"external\", \"mfgrid\"]"
   ]
  },
  {
   "cell_type": "code",
   "execution_count": null,
   "id": "0a1246b9-d423-421f-a3ab-97136032fc00",
   "metadata": {},
   "outputs": [],
   "source": [
    "network_dropped_df = df_network.drop(columns=network_columns_to_drop)\n",
    "network_dropped_df.head()"
   ]
  },
  {
   "cell_type": "code",
   "execution_count": null,
   "id": "00a5ff9e-88b4-40fa-b52b-279e01950961",
   "metadata": {},
   "outputs": [],
   "source": [
    "print(f\"Total rows in network table: {network_dropped_df.shape[0]}\")\n",
    "unique_bssids_network = network_dropped_df['bssid'].nunique()\n",
    "print(f\"Total unique bssids in network table: {unique_bssids_network}\")"
   ]
  },
  {
   "cell_type": "code",
   "execution_count": null,
   "id": "848b580d-d411-4c1b-b555-959e7797e157",
   "metadata": {},
   "outputs": [],
   "source": [
    "location_dropped_df = df_location.drop(columns=location_columns_to_drop)\n",
    "location_dropped_df.head()"
   ]
  },
  {
   "cell_type": "code",
   "execution_count": null,
   "id": "784fb836-4503-4e1e-ab45-35ac108f7bfa",
   "metadata": {},
   "outputs": [],
   "source": [
    "print(f\"Total rows in location table: {location_dropped_df.shape[0]}\")\n",
    "unique_bssids_location = location_dropped_df['bssid'].nunique()\n",
    "print(f\"Total unique bssids in location table: {unique_bssids_location}\")"
   ]
  },
  {
   "cell_type": "markdown",
   "id": "6580459c-dfce-43e4-8971-2cb6d36c8952",
   "metadata": {},
   "source": [
    "# Mapping\n",
    "We use the folium library to map the data points. We center the map using the mean values of our latitude and longitude data points. Then we create a marker cluster. This makes the map more responsive. Without this step, there are too many data points and the browser will crash."
   ]
  },
  {
   "cell_type": "code",
   "execution_count": null,
   "id": "adddf939-e044-46b9-a42a-5d550e0c5549",
   "metadata": {},
   "outputs": [],
   "source": [
    "interactive_map = folium.Map(location=[location_dropped_df['lat'].mean(), location_dropped_df['lon'].mean()], zoom_start=10)"
   ]
  },
  {
   "cell_type": "code",
   "execution_count": null,
   "id": "de09d302-4ea7-471b-9aae-148cc504457a",
   "metadata": {},
   "outputs": [],
   "source": [
    "marker_cluster = MarkerCluster().add_to(interactive_map)"
   ]
  },
  {
   "cell_type": "code",
   "execution_count": null,
   "id": "462e3072-2399-41bd-bfde-0f9de1ba18bf",
   "metadata": {},
   "outputs": [],
   "source": [
    "for index, row in tqdm(location_dropped_df.iterrows()):\n",
    "    if index % 4 == 0:  # higher number = less data points, lower number = more data points\n",
    "        folium.Marker([row['lat'], row['lon']], popup=row['bssid']).add_to(marker_cluster)"
   ]
  },
  {
   "cell_type": "code",
   "execution_count": null,
   "id": "5e905447-9f57-4f0b-8280-447a8de2f4b8",
   "metadata": {},
   "outputs": [],
   "source": [
    "interactive_map"
   ]
  },
  {
   "cell_type": "markdown",
   "id": "d0c1c750-0cd3-4c7d-96e0-db8b70757231",
   "metadata": {},
   "source": [
    "### Drop rows with bssids that appear only once."
   ]
  },
  {
   "cell_type": "code",
   "execution_count": null,
   "id": "0411df1f-60cc-4d59-adc9-0107624f6de8",
   "metadata": {},
   "outputs": [],
   "source": [
    "multi_location_df = location_dropped_df.groupby('bssid').filter(lambda x: len(x) > 1)\n",
    "print(\"Number of rows after filtering:\", multi_location_df.shape[0])"
   ]
  },
  {
   "cell_type": "markdown",
   "id": "00ff93c7-2faa-4280-9015-23d81d5de012",
   "metadata": {},
   "source": [
    "### Implement Haversine\n",
    "This function calculates the distance between two coordinates."
   ]
  },
  {
   "cell_type": "code",
   "execution_count": null,
   "id": "dad30776-c2dd-4025-b1dd-4c236a379b22",
   "metadata": {},
   "outputs": [],
   "source": [
    "def haversine(lat1, lon1, lat2, lon2):\n",
    "    # Convert latitude and longitude from degrees to radians\n",
    "    lat1, lon1, lat2, lon2 = map(math.radians, [lat1, lon1, lat2, lon2])\n",
    "\n",
    "    # Haversine formula\n",
    "    dlat = lat2 - lat1 \n",
    "    dlon = lon2 - lon1 \n",
    "    a = math.sin(dlat/2)**2 + math.cos(lat1) * math.cos(lat2) * math.sin(dlon/2)**2\n",
    "    c = 2 * math.atan2(math.sqrt(a), math.sqrt(1-a)) \n",
    "\n",
    "    # Radius of Earth in kilometers. Use 3956 for miles\n",
    "    r = 6371.0\n",
    "\n",
    "    # Calculate the result\n",
    "    distance = r * c\n",
    "\n",
    "    return distance"
   ]
  },
  {
   "cell_type": "code",
   "execution_count": null,
   "id": "50843ad8-7cc1-44dd-a530-9f4b2c2729aa",
   "metadata": {},
   "outputs": [],
   "source": [
    "# Example usage\n",
    "lat1, lon1 = 40.7128, -74.0060  # Coordinates of Location 1\n",
    "lat2, lon2 = 34.0522, -118.2437 # Coordinates of Location 2\n",
    "\n",
    "distance = haversine(lat1, lon1, lat2, lon2)\n",
    "print(f\"Distance: {distance} kilometers\")"
   ]
  },
  {
   "cell_type": "markdown",
   "id": "1243fab2-03a0-4c75-bcee-f4e0b57978ec",
   "metadata": {},
   "source": [
    "Testing with our data."
   ]
  },
  {
   "cell_type": "code",
   "execution_count": null,
   "id": "e1084f62-bc43-41af-8f4d-431a356cad7f",
   "metadata": {},
   "outputs": [],
   "source": [
    "distance1 = haversine(multi_location_df['lat'][0], multi_location_df['lon'][0], multi_location_df['lat'][100], multi_location_df['lon'][100])\n",
    "print(distance1)"
   ]
  },
  {
   "cell_type": "code",
   "execution_count": null,
   "id": "b08f7655-4def-4540-b44d-881d72a19bc7",
   "metadata": {},
   "outputs": [],
   "source": [
    "# Sort the DataFrame by 'bssid'\n",
    "df_sorted = multi_location_df.sort_values(by='bssid')"
   ]
  },
  {
   "cell_type": "markdown",
   "id": "08bd77c9-7367-40da-a07a-4a7057e8ba3f",
   "metadata": {},
   "source": [
    "### Calculate max distance\n",
    "The below function will find the bssid with the maximum distance between two measurements. It's commented out because it takes a while to run and was just used for testing."
   ]
  },
  {
   "cell_type": "code",
   "execution_count": null,
   "id": "291bdcde-2009-424d-bbf8-5d7d30eee252",
   "metadata": {},
   "outputs": [],
   "source": [
    "# Initialize variables for the maximum distance and corresponding bssid\n",
    "max_distance = 0\n",
    "max_distance_bssid = None\n",
    "\n",
    "def find_max_distance(): # wrapping this in function because it takes forever\n",
    "    # Iterate through the DataFrame, grouped by 'bssid'\n",
    "    for bssid, group in tqdm(df_sorted.groupby('bssid')):\n",
    "        # Skip groups with less than 2 entries\n",
    "        if len(group) < 2:\n",
    "            continue\n",
    "    \n",
    "        # Calculate pairwise distances within each group\n",
    "        for i in range(len(group)):\n",
    "            for j in range(i + 1, len(group)):\n",
    "                distance = haversine(group.iloc[i]['lat'], group.iloc[i]['lon'],\n",
    "                                     group.iloc[j]['lat'], group.iloc[j]['lon'])\n",
    "                if distance > max_distance:\n",
    "                    max_distance = distance\n",
    "                    max_distance_bssid = bssid\n",
    "# find_max_distance()"
   ]
  },
  {
   "cell_type": "code",
   "execution_count": null,
   "id": "2bd59bb2-b4b6-4556-a28d-c95ba4fe54e6",
   "metadata": {},
   "outputs": [],
   "source": [
    "# Print the results\n",
    "#print(\"Maximum Distance:\", max_distance, \"kilometers\")\n",
    "#print(\"BSSID with furthest distance between two entries:\", max_distance_bssid)"
   ]
  },
  {
   "cell_type": "markdown",
   "id": "a21d494d-935b-4a6f-97d9-855c186f90ed",
   "metadata": {},
   "source": [
    "# Functionize Mapping\n",
    "This function takes in a dataframe and a bssid and plots everywhere that bssid was seen."
   ]
  },
  {
   "cell_type": "code",
   "execution_count": null,
   "id": "e6ddb33a-23ff-40c0-a13c-6c0f965e41e2",
   "metadata": {},
   "outputs": [],
   "source": [
    "def create_clustered_map(df, bssid):\n",
    "    # Filter the DataFrame for the given bssid\n",
    "    bssid_df = df[df['bssid'] == bssid]\n",
    "\n",
    "    # Check if there are any data points for the given bssid\n",
    "    if bssid_df.empty:\n",
    "        print(f\"No data points found for bssid: {bssid}\")\n",
    "        return\n",
    "\n",
    "    # Create a map centered around the first data point\n",
    "    map_center = [bssid_df.iloc[0]['lat'], bssid_df.iloc[0]['lon']]\n",
    "    map = folium.Map(location=map_center, zoom_start=12)\n",
    "\n",
    "    # Create a MarkerCluster object\n",
    "    marker_cluster = MarkerCluster().add_to(map)\n",
    "\n",
    "    # Add markers to the cluster\n",
    "    for index, row in bssid_df.iterrows():\n",
    "        folium.Marker([row['lat'], row['lon']], popup=row['time']).add_to(marker_cluster)\n",
    "\n",
    "    # Display the map\n",
    "    return map"
   ]
  },
  {
   "cell_type": "markdown",
   "id": "badd47f5-7c4f-4c72-a9ac-a1754632175c",
   "metadata": {},
   "source": [
    "### Get top 100 max distances\n",
    "I carry a lot of different devices. As a result, the bssids with the most measurements are devices I carry with me. I'm not interested in those, so we find the top 100 distances between two data points of the same ssid. By plotting the first few, it's clear which ones are devices that belong to me and which ones arent.\n",
    "\n",
    "### Warning: This is computationally expensive it will take a bit."
   ]
  },
  {
   "cell_type": "code",
   "execution_count": null,
   "id": "6e2afa3c-6b89-4029-8b2f-82489a42b274",
   "metadata": {
    "scrolled": true
   },
   "outputs": [],
   "source": [
    "max_distances = {}  # Dictionary to hold bssid and its maximum distance\n",
    "\n",
    "for bssid, group in tqdm(df_sorted.groupby('bssid')):\n",
    "    # Skip groups with less than 2 entries\n",
    "    if len(group) < 2:\n",
    "        continue\n",
    "\n",
    "    # Initialize the max distance for the current bssid\n",
    "    max_distance_for_bssid = 0\n",
    "\n",
    "    # Calculate pairwise distances within each group\n",
    "    for i in range(len(group)):\n",
    "        for j in range(i + 1, len(group)):\n",
    "            distance = haversine(group.iloc[i]['lat'], group.iloc[i]['lon'],\n",
    "                                 group.iloc[j]['lat'], group.iloc[j]['lon'])\n",
    "            if distance > max_distance_for_bssid:\n",
    "                max_distance_for_bssid = distance\n",
    "\n",
    "    # Add the maximum distance for the current bssid to the dictionary\n",
    "    max_distances[bssid] = max_distance_for_bssid\n",
    "\n",
    "# Sorting the dictionary by maximum distance and getting the top 100\n",
    "top_100_bssids = dict(sorted(max_distances.items(), key=lambda item: item[1], reverse=True)[:100])\n",
    "\n",
    "# Print or return the top 100 bssids\n",
    "top_100_bssids"
   ]
  },
  {
   "cell_type": "markdown",
   "id": "03560c14-ac44-4a1a-8f23-3f394e8a6419",
   "metadata": {},
   "source": [
    "### Mapping the results\n",
    "Now we can pass in the the bssids we found. Once you get through the first few which might be devices you carry with you, you will start to see bssids with only a few data points on the map, but that are far away from each other. This is likely a person you've corssed paths with more than once in different locations. Pretty cool, huh?!"
   ]
  },
  {
   "cell_type": "code",
   "execution_count": null,
   "id": "cc6732b6-2351-40d6-bf5a-c06024632449",
   "metadata": {},
   "outputs": [],
   "source": [
    "map_output = create_clustered_map(df_sorted, 'xx:xx:xx:xx:xx:xx')\n",
    "map_output"
   ]
  },
  {
   "cell_type": "code",
   "execution_count": null,
   "id": "d4a948a2-8666-4e44-b271-07d5eceadc4b",
   "metadata": {},
   "outputs": [],
   "source": []
  }
 ],
 "metadata": {
  "kernelspec": {
   "display_name": "Python 3 (ipykernel)",
   "language": "python",
   "name": "python3"
  },
  "language_info": {
   "codemirror_mode": {
    "name": "ipython",
    "version": 3
   },
   "file_extension": ".py",
   "mimetype": "text/x-python",
   "name": "python",
   "nbconvert_exporter": "python",
   "pygments_lexer": "ipython3",
   "version": "3.11.5"
  }
 },
 "nbformat": 4,
 "nbformat_minor": 5
}
